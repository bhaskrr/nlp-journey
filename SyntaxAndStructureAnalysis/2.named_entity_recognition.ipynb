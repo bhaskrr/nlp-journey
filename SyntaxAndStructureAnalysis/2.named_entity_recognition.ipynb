{
 "cells": [
  {
   "cell_type": "markdown",
   "metadata": {},
   "source": [
    "# Named Entity Recognition\n",
    "\n",
    "Named Entity Recognition (NER) is a technique in natural language processing (NLP) that focuses on identifying and classifying entities. The purpose of NER is to automatically extract structured information from unstructured text, enabling machines to understand and categorize entities in a meaningful manner for various applications like text summarization, building knowledge graphs, question answering, and knowledge graph construction.\n",
    "\n",
    "NER systems find applications across various domains, including question answering, information retrieval and machine translation. NER plays an important role in enhancing the precision of other NLP tasks like part-of-speech tagging and parsing. At its core, NER is just a two-step process, below are the two steps that are involved:\n",
    "\n",
    "1. Detecting the entities from the text\n",
    "2. Classifying them into different categories\n",
    "\n",
    "\n",
    "## Workflow\n",
    "\n",
    "The working of Named Entity Recognition is discussed below:\n",
    "\n",
    "1. The NER system analyses the entire input text to identify and locate the named entities.\n",
    "\n",
    "2. The system then identifies the sentence boundaries by considering capitalization rules. It recognizes the end of the sentence when a word starts with a capital letter, assuming it could be the beginning of a new sentence. Knowing sentence boundaries aids in contextualizing entities within the text, allowing the model to understand relationships and meanings.\n",
    "3. NER can be trained to classify entire documents into different types, such as invoices, receipts, or passports. Document classification enhances the versatility of NER, allowing it to adapt its entity recognition based on the specific characteristics and context of different document types.\n",
    "4. NER employs machine learning algorithms, including supervised learning, to analyze labeled datasets. These datasets contain examples of annotated entities, guiding the model in recognizing similar entities in new, unseen data.\n",
    "5. Through multiple training iterations, the model refines its understanding of contextual features, syntactic structures, and entity patterns, continuously improving its accuracy over time.\n",
    "6. The model’s ability to adapt to new data allows it to handle variations in language, context, and entity types, making it more robust and effective."
   ]
  },
  {
   "cell_type": "markdown",
   "metadata": {},
   "source": [
    "## Named Entity Recognition (NER) Methods\n",
    "\n",
    "1. Lexicon Based Method\n",
    "\n",
    "    The NER uses a dictionary with a list of words or terms. The process involves checking if any of these words are present in a given text. However, this approach isn’t commonly used because it requires constant updating and careful maintenance of the dictionary to stay accurate and effective.\n",
    "\n",
    "2. Rule Based Method\n",
    "\n",
    "    The Rule Based NER method uses a set of predefined rules that guide the extraction of information. These rules are based on patterns and context. Pattern-based rules focus on the structure and form of words, looking at their morphological patterns. On the other hand, context-based rules consider the surrounding words or the context in which a word appears within the text document. This combination of pattern-based and context-based rules enhances the precision of information extraction in Named Entity Recognition (NER).\n",
    "\n",
    "3. Machine Learning-Based Method\n",
    "   1. Multi-Class Classification with Machine Learning Algorithms\n",
    "\n",
    "        One way is to train the model for multi-class classification using different machine learning algorithms, but it requires a lot of labelling. In addition to labelling the model also requires a deep understanding of context to deal with the ambiguity of the sentences. This makes it a challenging task for a simple machine learning algorithm.\n",
    "\n",
    "   2. Conditional Random Field (CRF)\n",
    "\n",
    "        Conditional random field is implemented by both NLP Speech Tagger and NLTK.  It is a probabilistic model that can be used to model sequential data such as words. The CRF can capture a deep understanding of the context of the sentence.\n",
    "\n",
    "4. Deep Learning Based Method\n",
    "\n",
    "    Deep learning NER system is much more accurate than previous method, as it is capable to assemble words. This is due to the fact that it uses a method called word embedding, that is capable of understanding the semantic and syntactic relationship between various words. It is also able to learn and analyze topic specific as well as high level words automatically.\n",
    "    This makes deep learning NER applicable for performing multiple tasks. Deep learning can do most of the repetitive work itself, hence researchers can use their time more efficiently."
   ]
  },
  {
   "cell_type": "markdown",
   "metadata": {},
   "source": [
    "## Named Entity Recognition with SpaCy\n",
    "\n",
    "Entity Types supported by SpaCy:\n",
    "\n",
    "|Entity Type|Description|\n",
    "|-----------|-----------|\n",
    "|PERSON|      People, including fictional.|\n",
    "|NORP  |      Nationalities or religious or political groups.|\n",
    "|FAC  |      Buildings, airports, highways, bridges, etc.|\n",
    "|ORG    |     Companies, agencies, institutions, etc.|\n",
    "|GPE    |     Countries, cities, states.|\n",
    "|LOC    |     Non-GPE locations, mountain ranges, bodies of water.|\n",
    "|PRODUCT |    Objects, vehicles, foods, etc. (Not services.)|\n",
    "|EVENT |      Named hurricanes, battles, wars, sports events, etc.|\n",
    "|WORK_OF_ART| Titles of books, songs, etc.|\n",
    "|LAW  |       Named documents made into laws.|\n",
    "|LANGUAGE |   Any named language.|\n",
    "|DATE  |      Absolute or relative dates or periods.|\n",
    "|TIME |       Times smaller than a day.|\n",
    "|PERCENT |    Percentage, including ”%“.|\n",
    "|MONEY   |   Monetary values, including unit.|\n",
    "|QUANTITY |   Measurements, as of weight or distance.|\n",
    "|ORDINAL  |   “first”, “second”, etc.|\n",
    "|CARDINAL |   Numerals that do not fall under another type.|"
   ]
  },
  {
   "cell_type": "code",
   "execution_count": 12,
   "metadata": {},
   "outputs": [],
   "source": [
    "# Import libraries and load spacy's english model\n",
    "import spacy\n",
    "from spacy import displacy\n",
    "\n",
    "nlp = spacy.load(\"en_core_web_sm\")"
   ]
  },
  {
   "cell_type": "code",
   "execution_count": null,
   "metadata": {},
   "outputs": [
    {
     "name": "stdout",
     "output_type": "stream",
     "text": [
      "this season -> DATE\n",
      "zero -> CARDINAL\n",
      "nine hours -> TIME\n",
      "mid-night -> TIME\n",
      "Indira Gandhi International -> FAC\n",
      "over 100 -> CARDINAL\n",
      "19 -> CARDINAL\n",
      "Punjab -> NORP\n",
      "Haryana -> PERSON\n",
      "Himachal Pradesh -> ORG\n",
      "Uttarakhand -> GPE\n",
      "Rajasthan -> GPE\n",
      "Uttar Pradesh -> ORG\n",
      "Bihar -> GPE\n",
      "Jharkhand -> GPE\n",
      "Tripura -> GPE\n",
      "Meghalaya -> ORG\n",
      "Mizoram -> GPE\n"
     ]
    }
   ],
   "source": [
    "# Process the text and print entity types\n",
    "content = \"The national capital recorded its worst fog yet this season with zero visibility conditions for nine hours\\\n",
    "    from mid-night hampering flight operations at Indira Gandhi International airport where over 100 flights were delayed, 19 diverted.\\\n",
    "        Intense foggy conditions also prevailed over Punjab, Haryana, parts of Himachal Pradesh, Uttarakhand, Rajasthan, Uttar Pradesh,\\\n",
    "            Bihar, Jharkhand, Tripura, Assam, Meghalaya and Mizoram.\"\n",
    "\n",
    "doc = nlp(content)\n",
    "\n",
    "for token in doc.ents:\n",
    "    print(f\"{token.text} -> {token.label_}\")"
   ]
  },
  {
   "cell_type": "code",
   "execution_count": 15,
   "metadata": {},
   "outputs": [
    {
     "data": {
      "text/html": [
       "<span class=\"tex2jax_ignore\"><div class=\"entities\" style=\"line-height: 2.5; direction: ltr\">The national capital recorded its worst fog yet \n",
       "<mark class=\"entity\" style=\"background: #bfe1d9; padding: 0.45em 0.6em; margin: 0 0.25em; line-height: 1; border-radius: 0.35em;\">\n",
       "    this season\n",
       "    <span style=\"font-size: 0.8em; font-weight: bold; line-height: 1; border-radius: 0.35em; vertical-align: middle; margin-left: 0.5rem\">DATE</span>\n",
       "</mark>\n",
       " with \n",
       "<mark class=\"entity\" style=\"background: #e4e7d2; padding: 0.45em 0.6em; margin: 0 0.25em; line-height: 1; border-radius: 0.35em;\">\n",
       "    zero\n",
       "    <span style=\"font-size: 0.8em; font-weight: bold; line-height: 1; border-radius: 0.35em; vertical-align: middle; margin-left: 0.5rem\">CARDINAL</span>\n",
       "</mark>\n",
       " visibility conditions for \n",
       "<mark class=\"entity\" style=\"background: #bfe1d9; padding: 0.45em 0.6em; margin: 0 0.25em; line-height: 1; border-radius: 0.35em;\">\n",
       "    nine hours\n",
       "    <span style=\"font-size: 0.8em; font-weight: bold; line-height: 1; border-radius: 0.35em; vertical-align: middle; margin-left: 0.5rem\">TIME</span>\n",
       "</mark>\n",
       "    from \n",
       "<mark class=\"entity\" style=\"background: #bfe1d9; padding: 0.45em 0.6em; margin: 0 0.25em; line-height: 1; border-radius: 0.35em;\">\n",
       "    mid-night\n",
       "    <span style=\"font-size: 0.8em; font-weight: bold; line-height: 1; border-radius: 0.35em; vertical-align: middle; margin-left: 0.5rem\">TIME</span>\n",
       "</mark>\n",
       " hampering flight operations at \n",
       "<mark class=\"entity\" style=\"background: #9cc9cc; padding: 0.45em 0.6em; margin: 0 0.25em; line-height: 1; border-radius: 0.35em;\">\n",
       "    Indira Gandhi International\n",
       "    <span style=\"font-size: 0.8em; font-weight: bold; line-height: 1; border-radius: 0.35em; vertical-align: middle; margin-left: 0.5rem\">FAC</span>\n",
       "</mark>\n",
       " airport where \n",
       "<mark class=\"entity\" style=\"background: #e4e7d2; padding: 0.45em 0.6em; margin: 0 0.25em; line-height: 1; border-radius: 0.35em;\">\n",
       "    over 100\n",
       "    <span style=\"font-size: 0.8em; font-weight: bold; line-height: 1; border-radius: 0.35em; vertical-align: middle; margin-left: 0.5rem\">CARDINAL</span>\n",
       "</mark>\n",
       " flights were delayed, \n",
       "<mark class=\"entity\" style=\"background: #e4e7d2; padding: 0.45em 0.6em; margin: 0 0.25em; line-height: 1; border-radius: 0.35em;\">\n",
       "    19\n",
       "    <span style=\"font-size: 0.8em; font-weight: bold; line-height: 1; border-radius: 0.35em; vertical-align: middle; margin-left: 0.5rem\">CARDINAL</span>\n",
       "</mark>\n",
       " diverted.        Intense foggy conditions also prevailed over \n",
       "<mark class=\"entity\" style=\"background: #c887fb; padding: 0.45em 0.6em; margin: 0 0.25em; line-height: 1; border-radius: 0.35em;\">\n",
       "    Punjab\n",
       "    <span style=\"font-size: 0.8em; font-weight: bold; line-height: 1; border-radius: 0.35em; vertical-align: middle; margin-left: 0.5rem\">NORP</span>\n",
       "</mark>\n",
       ", \n",
       "<mark class=\"entity\" style=\"background: #aa9cfc; padding: 0.45em 0.6em; margin: 0 0.25em; line-height: 1; border-radius: 0.35em;\">\n",
       "    Haryana\n",
       "    <span style=\"font-size: 0.8em; font-weight: bold; line-height: 1; border-radius: 0.35em; vertical-align: middle; margin-left: 0.5rem\">PERSON</span>\n",
       "</mark>\n",
       ", parts of \n",
       "<mark class=\"entity\" style=\"background: #7aecec; padding: 0.45em 0.6em; margin: 0 0.25em; line-height: 1; border-radius: 0.35em;\">\n",
       "    Himachal Pradesh\n",
       "    <span style=\"font-size: 0.8em; font-weight: bold; line-height: 1; border-radius: 0.35em; vertical-align: middle; margin-left: 0.5rem\">ORG</span>\n",
       "</mark>\n",
       ", \n",
       "<mark class=\"entity\" style=\"background: #feca74; padding: 0.45em 0.6em; margin: 0 0.25em; line-height: 1; border-radius: 0.35em;\">\n",
       "    Uttarakhand\n",
       "    <span style=\"font-size: 0.8em; font-weight: bold; line-height: 1; border-radius: 0.35em; vertical-align: middle; margin-left: 0.5rem\">GPE</span>\n",
       "</mark>\n",
       ", \n",
       "<mark class=\"entity\" style=\"background: #feca74; padding: 0.45em 0.6em; margin: 0 0.25em; line-height: 1; border-radius: 0.35em;\">\n",
       "    Rajasthan\n",
       "    <span style=\"font-size: 0.8em; font-weight: bold; line-height: 1; border-radius: 0.35em; vertical-align: middle; margin-left: 0.5rem\">GPE</span>\n",
       "</mark>\n",
       ", \n",
       "<mark class=\"entity\" style=\"background: #7aecec; padding: 0.45em 0.6em; margin: 0 0.25em; line-height: 1; border-radius: 0.35em;\">\n",
       "    Uttar Pradesh\n",
       "    <span style=\"font-size: 0.8em; font-weight: bold; line-height: 1; border-radius: 0.35em; vertical-align: middle; margin-left: 0.5rem\">ORG</span>\n",
       "</mark>\n",
       ",            \n",
       "<mark class=\"entity\" style=\"background: #feca74; padding: 0.45em 0.6em; margin: 0 0.25em; line-height: 1; border-radius: 0.35em;\">\n",
       "    Bihar\n",
       "    <span style=\"font-size: 0.8em; font-weight: bold; line-height: 1; border-radius: 0.35em; vertical-align: middle; margin-left: 0.5rem\">GPE</span>\n",
       "</mark>\n",
       ", \n",
       "<mark class=\"entity\" style=\"background: #feca74; padding: 0.45em 0.6em; margin: 0 0.25em; line-height: 1; border-radius: 0.35em;\">\n",
       "    Jharkhand\n",
       "    <span style=\"font-size: 0.8em; font-weight: bold; line-height: 1; border-radius: 0.35em; vertical-align: middle; margin-left: 0.5rem\">GPE</span>\n",
       "</mark>\n",
       ", \n",
       "<mark class=\"entity\" style=\"background: #feca74; padding: 0.45em 0.6em; margin: 0 0.25em; line-height: 1; border-radius: 0.35em;\">\n",
       "    Tripura\n",
       "    <span style=\"font-size: 0.8em; font-weight: bold; line-height: 1; border-radius: 0.35em; vertical-align: middle; margin-left: 0.5rem\">GPE</span>\n",
       "</mark>\n",
       ", Assam, \n",
       "<mark class=\"entity\" style=\"background: #7aecec; padding: 0.45em 0.6em; margin: 0 0.25em; line-height: 1; border-radius: 0.35em;\">\n",
       "    Meghalaya\n",
       "    <span style=\"font-size: 0.8em; font-weight: bold; line-height: 1; border-radius: 0.35em; vertical-align: middle; margin-left: 0.5rem\">ORG</span>\n",
       "</mark>\n",
       " and \n",
       "<mark class=\"entity\" style=\"background: #feca74; padding: 0.45em 0.6em; margin: 0 0.25em; line-height: 1; border-radius: 0.35em;\">\n",
       "    Mizoram\n",
       "    <span style=\"font-size: 0.8em; font-weight: bold; line-height: 1; border-radius: 0.35em; vertical-align: middle; margin-left: 0.5rem\">GPE</span>\n",
       "</mark>\n",
       ".</div></span>"
      ],
      "text/plain": [
       "<IPython.core.display.HTML object>"
      ]
     },
     "metadata": {},
     "output_type": "display_data"
    }
   ],
   "source": [
    "# Visualize named entities\n",
    "displacy.render(doc, style=\"ent\")"
   ]
  },
  {
   "cell_type": "markdown",
   "metadata": {},
   "source": [
    "## Use Cases\n",
    "\n",
    "NER can be used in a variety of applications, including:\n",
    "\n",
    "1. News: News providers can use NER to categorize content into important information and trends. \n",
    "\n",
    "2. Customer support: NER can identify relevant customer complaints and queries, and direct them to the correct department. \n",
    "\n",
    "3. Human resources: NER can summarize applicants' resumes and extract information like qualifications, education, and references. \n",
    "\n",
    "4. Logistics: NER can scan bills of lading to identify entities like \"Shipper\", \"Consignee\" or \"Carrier name\". "
   ]
  },
  {
   "cell_type": "markdown",
   "metadata": {},
   "source": [
    "## Sources\n",
    "\n",
    "1. GeeksForGeeks: [Named Entity Recognition](https://www.geeksforgeeks.org/named-entity-recognition/)\n",
    "2. Turing: [A Comprehensive Guide to Named Entity Recognition (NER)](https://www.turing.com/kb/a-comprehensive-guide-to-named-entity-recognition)"
   ]
  }
 ],
 "metadata": {
  "kernelspec": {
   "display_name": "Python 3",
   "language": "python",
   "name": "python3"
  },
  "language_info": {
   "codemirror_mode": {
    "name": "ipython",
    "version": 3
   },
   "file_extension": ".py",
   "mimetype": "text/x-python",
   "name": "python",
   "nbconvert_exporter": "python",
   "pygments_lexer": "ipython3",
   "version": "3.10.12"
  }
 },
 "nbformat": 4,
 "nbformat_minor": 2
}
